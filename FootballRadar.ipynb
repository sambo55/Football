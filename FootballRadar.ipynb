{
 "cells": [
  {
   "cell_type": "code",
   "execution_count": 72,
   "metadata": {},
   "outputs": [],
   "source": [
    "import pandas as pd\n",
    "\n",
    "data = pd.read_csv(\"PremierLeague.csv\")"
   ]
  },
  {
   "cell_type": "code",
   "execution_count": 73,
   "metadata": {
    "collapsed": true
   },
   "outputs": [
    {
     "name": "stdout",
     "output_type": "stream",
     "text": [
      "<class 'pandas.core.frame.DataFrame'>\n",
      "RangeIndex: 6926 entries, 0 to 6925\n",
      "Data columns (total 14 columns):\n",
      "Unnamed: 0           6926 non-null int64\n",
      "home_team            6926 non-null object\n",
      "away_team            6926 non-null object\n",
      "date                 6926 non-null object\n",
      "home_goals           6926 non-null int64\n",
      "away_goals           6926 non-null int64\n",
      "referee              6926 non-null object\n",
      "home_fouls           6926 non-null int64\n",
      "away_fouls           6926 non-null int64\n",
      "home_yellow_cards    6926 non-null int64\n",
      "away_yellow_cards    6926 non-null int64\n",
      "home_red_cards       6926 non-null int64\n",
      "away_red_cards       6926 non-null int64\n",
      "season               6926 non-null int64\n",
      "dtypes: int64(10), object(4)\n",
      "memory usage: 757.6+ KB\n"
     ]
    }
   ],
   "source": [
    "# Check for missing data\n",
    "\n",
    "data.info()"
   ]
  },
  {
   "cell_type": "code",
   "execution_count": 8,
   "metadata": {
    "collapsed": true
   },
   "outputs": [
    {
     "data": {
      "text/plain": [
       "Index(['Unnamed: 0', 'home_team', 'away_team', 'date', 'home_goals',\n",
       "       'away_goals', 'referee', 'home_fouls', 'away_fouls',\n",
       "       'home_yellow_cards', 'away_yellow_cards', 'home_red_cards',\n",
       "       'away_red_cards', 'season'],\n",
       "      dtype='object')"
      ]
     },
     "execution_count": 8,
     "metadata": {},
     "output_type": "execute_result"
    }
   ],
   "source": [
    "data.columns"
   ]
  },
  {
   "cell_type": "markdown",
   "metadata": {},
   "source": [
    "1. For each season which team(s) committed the most fouls?\n",
    "\n",
    "Relevant columns: home_fouls, away_fouls, home_team, away_team, season\n"
   ]
  },
  {
   "cell_type": "code",
   "execution_count": 83,
   "metadata": {
    "collapsed": true
   },
   "outputs": [
    {
     "data": {
      "text/plain": [
       "102     380\n",
       "1516    380\n",
       "1011    380\n",
       "607     380\n",
       "708     380\n",
       "1718    380\n",
       "1314    380\n",
       "910     380\n",
       "506     380\n",
       "1415    380\n",
       "1617    380\n",
       "1213    380\n",
       "809     380\n",
       "1112    380\n",
       "1       380\n",
       "304     335\n",
       "405     335\n",
       "203     316\n",
       "1819    240\n",
       "Name: season, dtype: int64"
      ]
     },
     "execution_count": 83,
     "metadata": {},
     "output_type": "execute_result"
    }
   ],
   "source": [
    "# Investigate relevant columns - Season, games missing from 02/03, 03/04, 04/05 data and current season is incomplete\n",
    "\n",
    "data.season.value_counts()"
   ]
  },
  {
   "cell_type": "code",
   "execution_count": 10,
   "metadata": {
    "collapsed": true
   },
   "outputs": [
    {
     "data": {
      "text/plain": [
       "11    751\n",
       "12    730\n",
       "10    707\n",
       "9     645\n",
       "13    617\n",
       "14    546\n",
       "8     526\n",
       "15    408\n",
       "7     404\n",
       "6     340\n",
       "16    306\n",
       "17    237\n",
       "5     161\n",
       "18    153\n",
       "19    114\n",
       "20     67\n",
       "4      63\n",
       "22     32\n",
       "21     31\n",
       "3      22\n",
       "23     18\n",
       "2      15\n",
       "24     12\n",
       "25      9\n",
       "26      5\n",
       "28      3\n",
       "27      1\n",
       "1       1\n",
       "33      1\n",
       "0       1\n",
       "Name: home_fouls, dtype: int64"
      ]
     },
     "execution_count": 10,
     "metadata": {},
     "output_type": "execute_result"
    }
   ],
   "source": [
    "# Home fouls - looks reasonable, no strange values\n",
    "\n",
    "data.home_fouls.value_counts()"
   ]
  },
  {
   "cell_type": "code",
   "execution_count": 11,
   "metadata": {
    "collapsed": true
   },
   "outputs": [
    {
     "data": {
      "text/plain": [
       "11    705\n",
       "10    684\n",
       "12    681\n",
       "13    678\n",
       "9     584\n",
       "14    552\n",
       "15    482\n",
       "8     463\n",
       "16    381\n",
       "7     350\n",
       "17    276\n",
       "6     222\n",
       "18    190\n",
       "5     141\n",
       "19    136\n",
       "20    102\n",
       "21     89\n",
       "4      55\n",
       "22     43\n",
       "3      34\n",
       "23     27\n",
       "24     16\n",
       "26     10\n",
       "25      7\n",
       "2       6\n",
       "1       5\n",
       "27      3\n",
       "28      3\n",
       "29      1\n",
       "Name: away_fouls, dtype: int64"
      ]
     },
     "execution_count": 11,
     "metadata": {},
     "output_type": "execute_result"
    }
   ],
   "source": [
    "# Away fouls - all fall within acceptable range\n",
    "\n",
    "data.away_fouls.value_counts()"
   ]
  },
  {
   "cell_type": "code",
   "execution_count": 18,
   "metadata": {
    "scrolled": true
   },
   "outputs": [
    {
     "data": {
      "text/plain": [
       "True"
      ]
     },
     "execution_count": 18,
     "metadata": {},
     "output_type": "execute_result"
    }
   ],
   "source": [
    "# Home and away team values are the same\n",
    "\n",
    "home = data.home_team.values.tolist()\n",
    "away = data.home_team.values.tolist()\n",
    "\n",
    "home == away"
   ]
  },
  {
   "cell_type": "code",
   "execution_count": 84,
   "metadata": {},
   "outputs": [],
   "source": [
    "# Perform a groupby on the data. Groupby season, apply function that loops through all teams and sums their\\\n",
    "# home and away fouls and divides by the number of games they played so we can compare seasons equally"
   ]
  },
  {
   "cell_type": "code",
   "execution_count": 74,
   "metadata": {},
   "outputs": [],
   "source": [
    "grouped = data.groupby('season')"
   ]
  },
  {
   "cell_type": "code",
   "execution_count": 79,
   "metadata": {},
   "outputs": [],
   "source": [
    "def foul_count(season):\n",
    "    \n",
    "    fouls = {}\n",
    "    \n",
    "    teams = season['home_team']\n",
    "    for team in teams:\n",
    "        \n",
    "        home_games = season[season['home_team']==team]\n",
    "        away_games = season[season['away_team']==team]\n",
    "        \n",
    "        games = len(home_games) + len(away_games)\n",
    "        \n",
    "        home_fouls = home_games['home_fouls'].sum()\n",
    "        away_fouls = away_games['away_fouls'].sum()\n",
    "        \n",
    "        total_fouls = home_fouls + away_fouls\n",
    "        \n",
    "        fouls[team] = round(total_fouls / games,2)\n",
    "        \n",
    "    return fouls\n",
    "    "
   ]
  },
  {
   "cell_type": "code",
   "execution_count": 80,
   "metadata": {},
   "outputs": [],
   "source": [
    "fouls2 = grouped.apply(foul_count)"
   ]
  },
  {
   "cell_type": "code",
   "execution_count": 81,
   "metadata": {
    "collapsed": true
   },
   "outputs": [
    {
     "data": {
      "text/plain": [
       "season\n",
       "1       {'Charlton': 12.29, 'Chelsea': 14.34, 'Coventr...\n",
       "102     {'Tottenham': 12.03, 'Middlesbrough': 13.29, '...\n",
       "203     {'Man United': 11.56, 'Southampton': 13.18, 'L...\n",
       "304     {'Leicester': 13.88, 'Man United': 11.32, 'Ful...\n",
       "405     {'Tottenham': 11.65, 'Portsmouth': 12.06, 'Mid...\n",
       "506     {'West Ham': 13.08, 'Sunderland': 14.16, 'Port...\n",
       "607     {'Arsenal': 9.68, 'Bolton': 13.71, 'Everton': ...\n",
       "708     {'West Ham': 13.63, 'Aston Villa': 13.37, 'Bol...\n",
       "809     {'Middlesbrough': 11.05, 'Sunderland': 10.0, '...\n",
       "910     {'Portsmouth': 12.71, 'Wolves': 12.71, 'Everto...\n",
       "1011    {'Wolves': 11.53, 'Wigan': 12.13, 'Sunderland'...\n",
       "1112    {'Wigan': 11.76, 'QPR': 10.24, 'Newcastle': 10...\n",
       "1213    {'West Ham': 11.71, 'West Brom': 10.74, 'Readi...\n",
       "1314    {'West Ham': 10.58, 'West Brom': 11.21, 'Swans...\n",
       "1415    {'Arsenal': 9.92, 'Leicester': 12.03, 'Man Uni...\n",
       "1516    {'Bournemouth': 9.53, 'Chelsea': 10.74, 'Evert...\n",
       "1617    {'Burnley': 11.21, 'Crystal Palace': 12.34, 'E...\n",
       "1718    {'Arsenal': 10.08, 'West Brom': 11.58, 'Bright...\n",
       "1819    {'Man United': 11.75, 'Watford': 11.58, 'Newca...\n",
       "dtype: object"
      ]
     },
     "execution_count": 81,
     "metadata": {},
     "output_type": "execute_result"
    }
   ],
   "source": [
    "fouls2\n"
   ]
  },
  {
   "cell_type": "code",
   "execution_count": 91,
   "metadata": {},
   "outputs": [],
   "source": [
    "# Return teams with highest foul rate for each season\n",
    "\n",
    "foul_rate = []\n",
    "\n",
    "for f in fouls2:\n",
    "    n = max(zip(f.values(),f.keys()))\n",
    "    foul_rate.append(n)"
   ]
  },
  {
   "cell_type": "code",
   "execution_count": 92,
   "metadata": {},
   "outputs": [
    {
     "data": {
      "text/plain": [
       "[(16.26, 'Sunderland'),\n",
       " (15.63, 'Leeds'),\n",
       " (14.84, 'Everton'),\n",
       " (15.09, 'Tottenham'),\n",
       " (15.67, 'Blackburn'),\n",
       " (15.79, 'Newcastle'),\n",
       " (14.79, 'Watford'),\n",
       " (13.97, 'Blackburn'),\n",
       " (14.03, 'Hull'),\n",
       " (13.84, 'Blackburn'),\n",
       " (12.63, 'Bolton'),\n",
       " (11.82, 'Everton'),\n",
       " (11.71, 'West Ham'),\n",
       " (12.76, 'Stoke'),\n",
       " (13.87, 'Crystal Palace'),\n",
       " (12.42, 'Man United'),\n",
       " (13.61, 'Watford'),\n",
       " (12.08, 'Everton'),\n",
       " (13.12, 'Brighton')]"
      ]
     },
     "execution_count": 92,
     "metadata": {},
     "output_type": "execute_result"
    }
   ],
   "source": [
    "foul_rate"
   ]
  },
  {
   "cell_type": "markdown",
   "metadata": {},
   "source": [
    "2. How does the number of yellow cards this season compared to previous seasons? What does this tell us about how football has changed?\n",
    "\n",
    "Relevant columns: home yellow cards, away yellow cards, number of games in the season"
   ]
  },
  {
   "cell_type": "code",
   "execution_count": 28,
   "metadata": {
    "collapsed": true
   },
   "outputs": [
    {
     "data": {
      "text/plain": [
       "1    2285\n",
       "0    1772\n",
       "2    1688\n",
       "3     821\n",
       "4     267\n",
       "5      75\n",
       "6      15\n",
       "7       3\n",
       "Name: home_yellow_cards, dtype: int64"
      ]
     },
     "execution_count": 28,
     "metadata": {},
     "output_type": "execute_result"
    }
   ],
   "source": [
    "# Investigate columns\n",
    "# Home yellows, acceptable range\n",
    "\n",
    "data.home_yellow_cards.value_counts()"
   ]
  },
  {
   "cell_type": "code",
   "execution_count": 29,
   "metadata": {
    "collapsed": true
   },
   "outputs": [
    {
     "data": {
      "text/plain": [
       "1    2066\n",
       "2    1921\n",
       "3    1158\n",
       "0    1123\n",
       "4     473\n",
       "5     147\n",
       "6      25\n",
       "7      11\n",
       "9       1\n",
       "8       1\n",
       "Name: away_yellow_cards, dtype: int64"
      ]
     },
     "execution_count": 29,
     "metadata": {},
     "output_type": "execute_result"
    }
   ],
   "source": [
    "# Away yellows, acceptable\n",
    "\n",
    "data.away_yellow_cards.value_counts()"
   ]
  },
  {
   "cell_type": "code",
   "execution_count": 39,
   "metadata": {},
   "outputs": [],
   "source": [
    "# Filter the dataframe on relevant columns, create new dataframe with yellow card stats(total, cards_per_game)"
   ]
  },
  {
   "cell_type": "code",
   "execution_count": 36,
   "metadata": {},
   "outputs": [],
   "source": [
    "def season_yellows(data,season):\n",
    "    \n",
    "    \n",
    "    season1 = data[data['season']==season]\n",
    "    home_yellows = season1['home_yellow_cards'].sum()\n",
    "    away_yellows = season1['away_yellow_cards'].sum()\n",
    "    \n",
    "    total_yellows = home_yellows + away_yellows\n",
    "    \n",
    "    number_of_games = len(season1)\n",
    "    \n",
    "    cards_per_game = total_yellows / number_of_games\n",
    "    \n",
    "    \n",
    "    \n",
    "    return total_yellows, round(cards_per_game,2)\n",
    "    "
   ]
  },
  {
   "cell_type": "code",
   "execution_count": 38,
   "metadata": {},
   "outputs": [],
   "source": [
    "yellow_stats = []\n",
    "\n",
    "for season in data['season']:\n",
    "    yellow_stats.append(season_yellows(data,season))"
   ]
  },
  {
   "cell_type": "code",
   "execution_count": 42,
   "metadata": {},
   "outputs": [],
   "source": [
    "yellows_df = pd.DataFrame(yellow_stats, columns=['TotalYellows','YellowsPerGame']).drop_duplicates()"
   ]
  },
  {
   "cell_type": "code",
   "execution_count": 45,
   "metadata": {},
   "outputs": [
    {
     "data": {
      "text/html": [
       "<div>\n",
       "<style>\n",
       "    .dataframe thead tr:only-child th {\n",
       "        text-align: right;\n",
       "    }\n",
       "\n",
       "    .dataframe thead th {\n",
       "        text-align: left;\n",
       "    }\n",
       "\n",
       "    .dataframe tbody tr th {\n",
       "        vertical-align: top;\n",
       "    }\n",
       "</style>\n",
       "<table border=\"1\" class=\"dataframe\">\n",
       "  <thead>\n",
       "    <tr style=\"text-align: right;\">\n",
       "      <th></th>\n",
       "      <th>TotalYellows</th>\n",
       "      <th>YellowsPerGame</th>\n",
       "    </tr>\n",
       "  </thead>\n",
       "  <tbody>\n",
       "    <tr>\n",
       "      <th>0</th>\n",
       "      <td>1194</td>\n",
       "      <td>3.14</td>\n",
       "    </tr>\n",
       "    <tr>\n",
       "      <th>1</th>\n",
       "      <td>1165</td>\n",
       "      <td>3.07</td>\n",
       "    </tr>\n",
       "    <tr>\n",
       "      <th>2</th>\n",
       "      <td>970</td>\n",
       "      <td>3.07</td>\n",
       "    </tr>\n",
       "    <tr>\n",
       "      <th>3</th>\n",
       "      <td>988</td>\n",
       "      <td>2.95</td>\n",
       "    </tr>\n",
       "    <tr>\n",
       "      <th>4</th>\n",
       "      <td>894</td>\n",
       "      <td>2.67</td>\n",
       "    </tr>\n",
       "    <tr>\n",
       "      <th>5</th>\n",
       "      <td>1173</td>\n",
       "      <td>3.09</td>\n",
       "    </tr>\n",
       "    <tr>\n",
       "      <th>6</th>\n",
       "      <td>1225</td>\n",
       "      <td>3.22</td>\n",
       "    </tr>\n",
       "    <tr>\n",
       "      <th>7</th>\n",
       "      <td>1216</td>\n",
       "      <td>3.20</td>\n",
       "    </tr>\n",
       "    <tr>\n",
       "      <th>8</th>\n",
       "      <td>1198</td>\n",
       "      <td>3.15</td>\n",
       "    </tr>\n",
       "    <tr>\n",
       "      <th>9</th>\n",
       "      <td>1237</td>\n",
       "      <td>3.26</td>\n",
       "    </tr>\n",
       "    <tr>\n",
       "      <th>10</th>\n",
       "      <td>1236</td>\n",
       "      <td>3.25</td>\n",
       "    </tr>\n",
       "    <tr>\n",
       "      <th>11</th>\n",
       "      <td>1178</td>\n",
       "      <td>3.10</td>\n",
       "    </tr>\n",
       "    <tr>\n",
       "      <th>12</th>\n",
       "      <td>1186</td>\n",
       "      <td>3.12</td>\n",
       "    </tr>\n",
       "    <tr>\n",
       "      <th>13</th>\n",
       "      <td>1212</td>\n",
       "      <td>3.19</td>\n",
       "    </tr>\n",
       "    <tr>\n",
       "      <th>14</th>\n",
       "      <td>1364</td>\n",
       "      <td>3.59</td>\n",
       "    </tr>\n",
       "    <tr>\n",
       "      <th>15</th>\n",
       "      <td>1179</td>\n",
       "      <td>3.10</td>\n",
       "    </tr>\n",
       "    <tr>\n",
       "      <th>16</th>\n",
       "      <td>1380</td>\n",
       "      <td>3.63</td>\n",
       "    </tr>\n",
       "    <tr>\n",
       "      <th>17</th>\n",
       "      <td>1157</td>\n",
       "      <td>3.04</td>\n",
       "    </tr>\n",
       "    <tr>\n",
       "      <th>18</th>\n",
       "      <td>779</td>\n",
       "      <td>3.25</td>\n",
       "    </tr>\n",
       "  </tbody>\n",
       "</table>\n",
       "</div>"
      ],
      "text/plain": [
       "    TotalYellows  YellowsPerGame\n",
       "0           1194            3.14\n",
       "1           1165            3.07\n",
       "2            970            3.07\n",
       "3            988            2.95\n",
       "4            894            2.67\n",
       "5           1173            3.09\n",
       "6           1225            3.22\n",
       "7           1216            3.20\n",
       "8           1198            3.15\n",
       "9           1237            3.26\n",
       "10          1236            3.25\n",
       "11          1178            3.10\n",
       "12          1186            3.12\n",
       "13          1212            3.19\n",
       "14          1364            3.59\n",
       "15          1179            3.10\n",
       "16          1380            3.63\n",
       "17          1157            3.04\n",
       "18           779            3.25"
      ]
     },
     "execution_count": 45,
     "metadata": {},
     "output_type": "execute_result"
    }
   ],
   "source": [
    "yellows_df.reset_index(drop=True)"
   ]
  },
  {
   "cell_type": "code",
   "execution_count": 47,
   "metadata": {
    "scrolled": false
   },
   "outputs": [
    {
     "data": {
      "text/plain": [
       "[<matplotlib.lines.Line2D at 0x10a7adf98>]"
      ]
     },
     "execution_count": 47,
     "metadata": {},
     "output_type": "execute_result"
    },
    {
     "data": {
      "image/png": "[encoded data removed]",
      "text/plain": [
       "<Figure size 432x288 with 1 Axes>"
      ]
     },
     "metadata": {
      "needs_background": "light"
     },
     "output_type": "display_data"
    }
   ],
   "source": [
    "# Plot of average number of cards given per game\n",
    "\n",
    "import matplotlib.pyplot as plt\n",
    "%matplotlib inline \n",
    "\n",
    "plt.plot(yellows_df['YellowsPerGame'])\n",
    "\n"
   ]
  },
  {
   "cell_type": "code",
   "execution_count": 48,
   "metadata": {},
   "outputs": [
    {
     "data": {
      "text/plain": [
       "3.162631578947368"
      ]
     },
     "execution_count": 48,
     "metadata": {},
     "output_type": "execute_result"
    }
   ],
   "source": [
    "yellows_df['YellowsPerGame'].mean()"
   ]
  },
  {
   "cell_type": "markdown",
   "metadata": {},
   "source": [
    "The average cards per game so far this seaason is 3.25 which is the 4th highest from the 19 seasons we have. The average for all seasons is 3.16 so it might be that there are slightly more cards being given out now than before. This assumes that cards will be given out at the same rate for the remainder of the season which could be wrong. More players will already be on yellow cards at this point so we might see a decrease in cards as players try to avoid suspension.\n",
    "\n",
    "While the card numbers are similar between season 00/01 and this year I would say from my own knowledge that football has changed in the last 20 years and what warrants a yellow card is different now than it was then. The fact that we haven't seen a significant increase shows that players behaviour has adjusted to what they can get away with."
   ]
  },
  {
   "cell_type": "markdown",
   "metadata": {},
   "source": [
    "3. Which referees would you describe as the most lenient? Why?\n",
    "\n",
    "Relevant columns - referee, home/away yellows/reds/fouls\n",
    "\n",
    "Depends on definition of leniency\n",
    "\n",
    "Referees who give out less cards per game\n",
    "\n",
    "Referees who give less fouls per game\n",
    "\n",
    "Referees who wait longer to give out cards, so high fouls per game with low cards per game.\n",
    "\n"
   ]
  },
  {
   "cell_type": "code",
   "execution_count": 50,
   "metadata": {
    "collapsed": true
   },
   "outputs": [
    {
     "data": {
      "text/plain": [
       "M Dean                431\n",
       "M Atkinson            365\n",
       "A Marriner            301\n",
       "P Dowd                295\n",
       "H Webb                294\n",
       "M Clattenburg         291\n",
       "C Foy                 254\n",
       "L Mason               254\n",
       "M Oliver              223\n",
       "M Halsey              217\n",
       "A Taylor              214\n",
       "M Jones               202\n",
       "A Wiley               198\n",
       "S Bennett             195\n",
       "K Friend              193\n",
       "J Moss                190\n",
       "L Probert             175\n",
       "R Styles              169\n",
       "P Walton              168\n",
       "M Riley               162\n",
       "N Swarbrick           132\n",
       "G Poll                130\n",
       "C Pawson              125\n",
       "U Rennie               94\n",
       "R Madley               91\n",
       "R East                 87\n",
       "S Attwell              87\n",
       "D Gallagher            78\n",
       "N Barry                53\n",
       "S Dunn                 51\n",
       "                     ... \n",
       "Rob Harris             11\n",
       "B. Knight              11\n",
       "E. K. Wolstenholme     11\n",
       "D. Pugh                 9\n",
       "Clive Wilkes            9\n",
       "E Wolstenholme          8\n",
       "D Coote                 8\n",
       "S Hooper                7\n",
       "C Wilkes                7\n",
       "D Pugh                  5\n",
       "P. Dowd                 5\n",
       "C. J. Foy               5\n",
       "M. D. Messias           5\n",
       "Matt Messias            3\n",
       "Mn Atkinson             2\n",
       "R Beeby                 2\n",
       "P Crossley              2\n",
       "A Madley                2\n",
       "R Martin                1\n",
       "P.A. Durkin             1\n",
       "I Williamson            1\n",
       "A.G. Wiley              1\n",
       "N Yates                 1\n",
       "M. L. Dean              1\n",
       "Ian Harris              1\n",
       "Roy Burton              1\n",
       "St Bennett              1\n",
       "P. Durkin               1\n",
       "J.T. Winter             1\n",
       "Andy Hall               1\n",
       "Name: referee, Length: 109, dtype: int64"
      ]
     },
     "execution_count": 50,
     "metadata": {},
     "output_type": "execute_result"
    }
   ],
   "source": [
    "# Investigate referee column - 109 referees, but some duplicates can be seen eg M Atkinson and Mn Atkinson\n",
    "\n",
    "data['referee'].value_counts()"
   ]
  },
  {
   "cell_type": "code",
   "execution_count": 51,
   "metadata": {},
   "outputs": [],
   "source": [
    "# Extract only the last name from referee column and store in a new column(what if they have same last name? typos?)\n",
    "\n",
    "\n",
    "def ref_surname(ref):\n",
    "    lastname = ref.rsplit(None,1)[1]\n",
    "    return lastname\n",
    "\n",
    "data['ref_name'] = data.apply(lambda x: ref_surname(x['referee']), axis=1)"
   ]
  },
  {
   "cell_type": "code",
   "execution_count": 53,
   "metadata": {
    "collapsed": true
   },
   "outputs": [
    {
     "data": {
      "text/plain": [
       "Dean            463\n",
       "Atkinson        367\n",
       "Marriner        301\n",
       "Dowd            300\n",
       "Webb            294\n",
       "Clattenburg     291\n",
       "Foy             259\n",
       "Halsey          254\n",
       "Mason           254\n",
       "Wiley           244\n",
       "Bennett         233\n",
       "Jones           231\n",
       "Taylor          226\n",
       "Oliver          223\n",
       "Styles          203\n",
       "Riley           198\n",
       "Friend          193\n",
       "Moss            190\n",
       "Poll            177\n",
       "Probert         175\n",
       "Walton          168\n",
       "Swarbrick       132\n",
       "Pawson          125\n",
       "Gallagher       116\n",
       "Rennie          110\n",
       "Madley           93\n",
       "D'Urso           93\n",
       "Dunn             89\n",
       "East             87\n",
       "Barry            87\n",
       "Attwell          87\n",
       "Durkin           83\n",
       "Barber           75\n",
       "Winter           75\n",
       "Knight           59\n",
       "Elleray          52\n",
       "Tierney          47\n",
       "Scott            42\n",
       "Messias          41\n",
       "Kavanagh         31\n",
       "Wilkes           28\n",
       "Tanner           26\n",
       "Wolstenholme     19\n",
       "Lodge            18\n",
       "Stroud           17\n",
       "Pugh             14\n",
       "Harris           12\n",
       "Coote             8\n",
       "Hooper            7\n",
       "Crossley          2\n",
       "Beeby             2\n",
       "Burton            1\n",
       "Williamson        1\n",
       "Hall              1\n",
       "Yates             1\n",
       "Martin            1\n",
       "Name: ref_name, dtype: int64"
      ]
     },
     "execution_count": 53,
     "metadata": {},
     "output_type": "execute_result"
    }
   ],
   "source": [
    "#Check for typos\n",
    "\n",
    "data['ref_name'].value_counts()"
   ]
  },
  {
   "cell_type": "code",
   "execution_count": 54,
   "metadata": {},
   "outputs": [],
   "source": [
    "### Apply function to calculate referee stats. Number of games, yellows per game, reds per game, fouls per game\n",
    "### foul to card ratio\n",
    "\n",
    "def ref_leniency(df,ref):\n",
    "    \n",
    "    ref_data = df[df['ref_name']==ref]\n",
    "    \n",
    "    games = len(ref_data)\n",
    "    \n",
    "    home_yellows = ref_data['home_yellow_cards'].sum()\n",
    "    away_yellows = ref_data['away_yellow_cards'].sum()\n",
    "    total_yellows = home_yellows + away_yellows\n",
    "    \n",
    "    yellow_pg = total_yellows / games\n",
    "    \n",
    "    home_reds = ref_data['home_red_cards'].sum()\n",
    "    away_reds = ref_data['away_red_cards'].sum()\n",
    "    total_reds = home_reds + away_reds\n",
    "    \n",
    "    red_pg = total_reds / games\n",
    "    \n",
    "    \n",
    "    home_fouls = ref_data['home_fouls'].sum()\n",
    "    away_fouls = ref_data['away_fouls'].sum()\n",
    "    total_fouls = home_fouls + away_fouls\n",
    "    \n",
    "    fouls_pg = total_fouls / games\n",
    "    \n",
    "    foul_card_ratio = round(total_fouls / total_yellows, 2)\n",
    "    \n",
    "    return ref, games, yellow_pg, red_pg, fouls_pg, foul_card_ratio"
   ]
  },
  {
   "cell_type": "code",
   "execution_count": 55,
   "metadata": {},
   "outputs": [],
   "source": [
    "# Get list of referee names\n",
    "\n",
    "refs = data['ref_name'].values.tolist()"
   ]
  },
  {
   "cell_type": "code",
   "execution_count": 56,
   "metadata": {},
   "outputs": [],
   "source": [
    "# Loop through each referee and calculate stats\n",
    "\n",
    "leniency_df = []\n",
    "\n",
    "for name in refs:\n",
    "    \n",
    "    leniency_df.append(ref_leniency(data,name))"
   ]
  },
  {
   "cell_type": "code",
   "execution_count": 57,
   "metadata": {},
   "outputs": [],
   "source": [
    "# Create dataframe of referee stats to compare them\n",
    "\n",
    "ref_df = pd.DataFrame(leniency_df, columns = [\"Ref\",'Games','Yellows_per_game','Reds_per_game','Fouls_per_game', 'Fouls_per_card'])"
   ]
  },
  {
   "cell_type": "code",
   "execution_count": 58,
   "metadata": {},
   "outputs": [],
   "source": [
    "# Filter by refs that have done at least 10 games\n",
    "\n",
    "common_refs = ref_df[ref_df['Games']>10]"
   ]
  },
  {
   "cell_type": "code",
   "execution_count": 64,
   "metadata": {},
   "outputs": [],
   "source": [
    "# Look at top 5 charts for each leniency measure to see if there are any names that come up frequently"
   ]
  },
  {
   "cell_type": "code",
   "execution_count": 60,
   "metadata": {
    "scrolled": true
   },
   "outputs": [
    {
     "data": {
      "text/html": [
       "<div>\n",
       "<style>\n",
       "    .dataframe thead tr:only-child th {\n",
       "        text-align: right;\n",
       "    }\n",
       "\n",
       "    .dataframe thead th {\n",
       "        text-align: left;\n",
       "    }\n",
       "\n",
       "    .dataframe tbody tr th {\n",
       "        vertical-align: top;\n",
       "    }\n",
       "</style>\n",
       "<table border=\"1\" class=\"dataframe\">\n",
       "  <thead>\n",
       "    <tr style=\"text-align: right;\">\n",
       "      <th></th>\n",
       "      <th>Ref</th>\n",
       "      <th>Games</th>\n",
       "      <th>Yellows_per_game</th>\n",
       "      <th>Reds_per_game</th>\n",
       "      <th>Fouls_per_game</th>\n",
       "      <th>Fouls_per_card</th>\n",
       "    </tr>\n",
       "  </thead>\n",
       "  <tbody>\n",
       "    <tr>\n",
       "      <th>6589</th>\n",
       "      <td>Kavanagh</td>\n",
       "      <td>31</td>\n",
       "      <td>3.354839</td>\n",
       "      <td>0.096774</td>\n",
       "      <td>20.129032</td>\n",
       "      <td>6.00</td>\n",
       "    </tr>\n",
       "    <tr>\n",
       "      <th>6517</th>\n",
       "      <td>Scott</td>\n",
       "      <td>42</td>\n",
       "      <td>2.666667</td>\n",
       "      <td>0.142857</td>\n",
       "      <td>20.714286</td>\n",
       "      <td>7.77</td>\n",
       "    </tr>\n",
       "    <tr>\n",
       "      <th>3582</th>\n",
       "      <td>Attwell</td>\n",
       "      <td>87</td>\n",
       "      <td>3.413793</td>\n",
       "      <td>0.137931</td>\n",
       "      <td>20.735632</td>\n",
       "      <td>6.07</td>\n",
       "    </tr>\n",
       "    <tr>\n",
       "      <th>4621</th>\n",
       "      <td>Swarbrick</td>\n",
       "      <td>132</td>\n",
       "      <td>3.333333</td>\n",
       "      <td>0.083333</td>\n",
       "      <td>20.924242</td>\n",
       "      <td>6.28</td>\n",
       "    </tr>\n",
       "    <tr>\n",
       "      <th>2733</th>\n",
       "      <td>Probert</td>\n",
       "      <td>175</td>\n",
       "      <td>2.542857</td>\n",
       "      <td>0.171429</td>\n",
       "      <td>21.257143</td>\n",
       "      <td>8.36</td>\n",
       "    </tr>\n",
       "  </tbody>\n",
       "</table>\n",
       "</div>"
      ],
      "text/plain": [
       "            Ref  Games  Yellows_per_game  Reds_per_game  Fouls_per_game  \\\n",
       "6589   Kavanagh     31          3.354839       0.096774       20.129032   \n",
       "6517      Scott     42          2.666667       0.142857       20.714286   \n",
       "3582    Attwell     87          3.413793       0.137931       20.735632   \n",
       "4621  Swarbrick    132          3.333333       0.083333       20.924242   \n",
       "2733    Probert    175          2.542857       0.171429       21.257143   \n",
       "\n",
       "      Fouls_per_card  \n",
       "6589            6.00  \n",
       "6517            7.77  \n",
       "3582            6.07  \n",
       "4621            6.28  \n",
       "2733            8.36  "
      ]
     },
     "execution_count": 60,
     "metadata": {},
     "output_type": "execute_result"
    }
   ],
   "source": [
    "common_refs.sort_values(by='Fouls_per_game').drop_duplicates().head()"
   ]
  },
  {
   "cell_type": "code",
   "execution_count": 61,
   "metadata": {},
   "outputs": [
    {
     "data": {
      "text/html": [
       "<div>\n",
       "<style>\n",
       "    .dataframe thead tr:only-child th {\n",
       "        text-align: right;\n",
       "    }\n",
       "\n",
       "    .dataframe thead th {\n",
       "        text-align: left;\n",
       "    }\n",
       "\n",
       "    .dataframe tbody tr th {\n",
       "        vertical-align: top;\n",
       "    }\n",
       "</style>\n",
       "<table border=\"1\" class=\"dataframe\">\n",
       "  <thead>\n",
       "    <tr style=\"text-align: right;\">\n",
       "      <th></th>\n",
       "      <th>Ref</th>\n",
       "      <th>Games</th>\n",
       "      <th>Yellows_per_game</th>\n",
       "      <th>Reds_per_game</th>\n",
       "      <th>Fouls_per_game</th>\n",
       "      <th>Fouls_per_card</th>\n",
       "    </tr>\n",
       "  </thead>\n",
       "  <tbody>\n",
       "    <tr>\n",
       "      <th>1584</th>\n",
       "      <td>Halsey</td>\n",
       "      <td>254</td>\n",
       "      <td>2.153543</td>\n",
       "      <td>0.106299</td>\n",
       "      <td>22.244094</td>\n",
       "      <td>10.33</td>\n",
       "    </tr>\n",
       "    <tr>\n",
       "      <th>1068</th>\n",
       "      <td>Durkin</td>\n",
       "      <td>83</td>\n",
       "      <td>2.192771</td>\n",
       "      <td>0.084337</td>\n",
       "      <td>24.939759</td>\n",
       "      <td>11.37</td>\n",
       "    </tr>\n",
       "    <tr>\n",
       "      <th>644</th>\n",
       "      <td>Winter</td>\n",
       "      <td>75</td>\n",
       "      <td>2.480000</td>\n",
       "      <td>0.080000</td>\n",
       "      <td>24.720000</td>\n",
       "      <td>9.97</td>\n",
       "    </tr>\n",
       "    <tr>\n",
       "      <th>3343</th>\n",
       "      <td>Probert</td>\n",
       "      <td>175</td>\n",
       "      <td>2.542857</td>\n",
       "      <td>0.171429</td>\n",
       "      <td>21.257143</td>\n",
       "      <td>8.36</td>\n",
       "    </tr>\n",
       "    <tr>\n",
       "      <th>966</th>\n",
       "      <td>Gallagher</td>\n",
       "      <td>116</td>\n",
       "      <td>2.560345</td>\n",
       "      <td>0.189655</td>\n",
       "      <td>24.448276</td>\n",
       "      <td>9.55</td>\n",
       "    </tr>\n",
       "  </tbody>\n",
       "</table>\n",
       "</div>"
      ],
      "text/plain": [
       "            Ref  Games  Yellows_per_game  Reds_per_game  Fouls_per_game  \\\n",
       "1584     Halsey    254          2.153543       0.106299       22.244094   \n",
       "1068     Durkin     83          2.192771       0.084337       24.939759   \n",
       "644      Winter     75          2.480000       0.080000       24.720000   \n",
       "3343    Probert    175          2.542857       0.171429       21.257143   \n",
       "966   Gallagher    116          2.560345       0.189655       24.448276   \n",
       "\n",
       "      Fouls_per_card  \n",
       "1584           10.33  \n",
       "1068           11.37  \n",
       "644             9.97  \n",
       "3343            8.36  \n",
       "966             9.55  "
      ]
     },
     "execution_count": 61,
     "metadata": {},
     "output_type": "execute_result"
    }
   ],
   "source": [
    "common_refs.sort_values(by='Yellows_per_game').drop_duplicates().head()"
   ]
  },
  {
   "cell_type": "code",
   "execution_count": 62,
   "metadata": {},
   "outputs": [
    {
     "data": {
      "text/html": [
       "<div>\n",
       "<style>\n",
       "    .dataframe thead tr:only-child th {\n",
       "        text-align: right;\n",
       "    }\n",
       "\n",
       "    .dataframe thead th {\n",
       "        text-align: left;\n",
       "    }\n",
       "\n",
       "    .dataframe tbody tr th {\n",
       "        vertical-align: top;\n",
       "    }\n",
       "</style>\n",
       "<table border=\"1\" class=\"dataframe\">\n",
       "  <thead>\n",
       "    <tr style=\"text-align: right;\">\n",
       "      <th></th>\n",
       "      <th>Ref</th>\n",
       "      <th>Games</th>\n",
       "      <th>Yellows_per_game</th>\n",
       "      <th>Reds_per_game</th>\n",
       "      <th>Fouls_per_game</th>\n",
       "      <th>Fouls_per_card</th>\n",
       "    </tr>\n",
       "  </thead>\n",
       "  <tbody>\n",
       "    <tr>\n",
       "      <th>272</th>\n",
       "      <td>Lodge</td>\n",
       "      <td>18</td>\n",
       "      <td>2.888889</td>\n",
       "      <td>0.055556</td>\n",
       "      <td>24.777778</td>\n",
       "      <td>8.58</td>\n",
       "    </tr>\n",
       "    <tr>\n",
       "      <th>2729</th>\n",
       "      <td>Stroud</td>\n",
       "      <td>17</td>\n",
       "      <td>2.941176</td>\n",
       "      <td>0.058824</td>\n",
       "      <td>28.176471</td>\n",
       "      <td>9.58</td>\n",
       "    </tr>\n",
       "    <tr>\n",
       "      <th>6276</th>\n",
       "      <td>Tierney</td>\n",
       "      <td>47</td>\n",
       "      <td>3.042553</td>\n",
       "      <td>0.063830</td>\n",
       "      <td>22.234043</td>\n",
       "      <td>7.31</td>\n",
       "    </tr>\n",
       "    <tr>\n",
       "      <th>782</th>\n",
       "      <td>Pugh</td>\n",
       "      <td>14</td>\n",
       "      <td>2.785714</td>\n",
       "      <td>0.071429</td>\n",
       "      <td>24.214286</td>\n",
       "      <td>8.69</td>\n",
       "    </tr>\n",
       "    <tr>\n",
       "      <th>427</th>\n",
       "      <td>Winter</td>\n",
       "      <td>75</td>\n",
       "      <td>2.480000</td>\n",
       "      <td>0.080000</td>\n",
       "      <td>24.720000</td>\n",
       "      <td>9.97</td>\n",
       "    </tr>\n",
       "  </tbody>\n",
       "</table>\n",
       "</div>"
      ],
      "text/plain": [
       "          Ref  Games  Yellows_per_game  Reds_per_game  Fouls_per_game  \\\n",
       "272     Lodge     18          2.888889       0.055556       24.777778   \n",
       "2729   Stroud     17          2.941176       0.058824       28.176471   \n",
       "6276  Tierney     47          3.042553       0.063830       22.234043   \n",
       "782      Pugh     14          2.785714       0.071429       24.214286   \n",
       "427    Winter     75          2.480000       0.080000       24.720000   \n",
       "\n",
       "      Fouls_per_card  \n",
       "272             8.58  \n",
       "2729            9.58  \n",
       "6276            7.31  \n",
       "782             8.69  \n",
       "427             9.97  "
      ]
     },
     "execution_count": 62,
     "metadata": {},
     "output_type": "execute_result"
    }
   ],
   "source": [
    "common_refs.sort_values(by='Reds_per_game').drop_duplicates().head()"
   ]
  },
  {
   "cell_type": "code",
   "execution_count": 63,
   "metadata": {
    "scrolled": true
   },
   "outputs": [
    {
     "data": {
      "text/html": [
       "<div>\n",
       "<style>\n",
       "    .dataframe thead tr:only-child th {\n",
       "        text-align: right;\n",
       "    }\n",
       "\n",
       "    .dataframe thead th {\n",
       "        text-align: left;\n",
       "    }\n",
       "\n",
       "    .dataframe tbody tr th {\n",
       "        vertical-align: top;\n",
       "    }\n",
       "</style>\n",
       "<table border=\"1\" class=\"dataframe\">\n",
       "  <thead>\n",
       "    <tr style=\"text-align: right;\">\n",
       "      <th></th>\n",
       "      <th>Ref</th>\n",
       "      <th>Games</th>\n",
       "      <th>Yellows_per_game</th>\n",
       "      <th>Reds_per_game</th>\n",
       "      <th>Fouls_per_game</th>\n",
       "      <th>Fouls_per_card</th>\n",
       "    </tr>\n",
       "  </thead>\n",
       "  <tbody>\n",
       "    <tr>\n",
       "      <th>120</th>\n",
       "      <td>Durkin</td>\n",
       "      <td>83</td>\n",
       "      <td>2.192771</td>\n",
       "      <td>0.084337</td>\n",
       "      <td>24.939759</td>\n",
       "      <td>11.37</td>\n",
       "    </tr>\n",
       "    <tr>\n",
       "      <th>2359</th>\n",
       "      <td>Rennie</td>\n",
       "      <td>110</td>\n",
       "      <td>2.627273</td>\n",
       "      <td>0.081818</td>\n",
       "      <td>27.518182</td>\n",
       "      <td>10.47</td>\n",
       "    </tr>\n",
       "    <tr>\n",
       "      <th>1544</th>\n",
       "      <td>Halsey</td>\n",
       "      <td>254</td>\n",
       "      <td>2.153543</td>\n",
       "      <td>0.106299</td>\n",
       "      <td>22.244094</td>\n",
       "      <td>10.33</td>\n",
       "    </tr>\n",
       "    <tr>\n",
       "      <th>109</th>\n",
       "      <td>Winter</td>\n",
       "      <td>75</td>\n",
       "      <td>2.480000</td>\n",
       "      <td>0.080000</td>\n",
       "      <td>24.720000</td>\n",
       "      <td>9.97</td>\n",
       "    </tr>\n",
       "    <tr>\n",
       "      <th>2418</th>\n",
       "      <td>Stroud</td>\n",
       "      <td>17</td>\n",
       "      <td>2.941176</td>\n",
       "      <td>0.058824</td>\n",
       "      <td>28.176471</td>\n",
       "      <td>9.58</td>\n",
       "    </tr>\n",
       "  </tbody>\n",
       "</table>\n",
       "</div>"
      ],
      "text/plain": [
       "         Ref  Games  Yellows_per_game  Reds_per_game  Fouls_per_game  \\\n",
       "120   Durkin     83          2.192771       0.084337       24.939759   \n",
       "2359  Rennie    110          2.627273       0.081818       27.518182   \n",
       "1544  Halsey    254          2.153543       0.106299       22.244094   \n",
       "109   Winter     75          2.480000       0.080000       24.720000   \n",
       "2418  Stroud     17          2.941176       0.058824       28.176471   \n",
       "\n",
       "      Fouls_per_card  \n",
       "120            11.37  \n",
       "2359           10.47  \n",
       "1544           10.33  \n",
       "109             9.97  \n",
       "2418            9.58  "
      ]
     },
     "execution_count": 63,
     "metadata": {},
     "output_type": "execute_result"
    }
   ],
   "source": [
    "common_refs.sort_values(by='Fouls_per_card',ascending=False).drop_duplicates().head()"
   ]
  },
  {
   "cell_type": "markdown",
   "metadata": {},
   "source": [
    "From this overview we see that Durkin and Halsey are top 2 for fewest yellows per game and 1,3 for fouls per card. These would be my two candidates for most lenient refs with Durkin taking the title given he's almost a whole foul ahead on fouls per card.\n",
    "\n"
   ]
  },
  {
   "cell_type": "markdown",
   "metadata": {},
   "source": [
    "We could also look at averages for each stat to see how far from the norm some of these refs are"
   ]
  },
  {
   "cell_type": "code",
   "execution_count": 65,
   "metadata": {},
   "outputs": [
    {
     "data": {
      "text/html": [
       "<div>\n",
       "<style>\n",
       "    .dataframe thead tr:only-child th {\n",
       "        text-align: right;\n",
       "    }\n",
       "\n",
       "    .dataframe thead th {\n",
       "        text-align: left;\n",
       "    }\n",
       "\n",
       "    .dataframe tbody tr th {\n",
       "        vertical-align: top;\n",
       "    }\n",
       "</style>\n",
       "<table border=\"1\" class=\"dataframe\">\n",
       "  <thead>\n",
       "    <tr style=\"text-align: right;\">\n",
       "      <th></th>\n",
       "      <th>Games</th>\n",
       "      <th>Yellows_per_game</th>\n",
       "      <th>Reds_per_game</th>\n",
       "      <th>Fouls_per_game</th>\n",
       "      <th>Fouls_per_card</th>\n",
       "    </tr>\n",
       "  </thead>\n",
       "  <tbody>\n",
       "    <tr>\n",
       "      <th>count</th>\n",
       "      <td>6902.000000</td>\n",
       "      <td>6902.000000</td>\n",
       "      <td>6902.000000</td>\n",
       "      <td>6902.000000</td>\n",
       "      <td>6902.000000</td>\n",
       "    </tr>\n",
       "    <tr>\n",
       "      <th>mean</th>\n",
       "      <td>224.436975</td>\n",
       "      <td>3.166184</td>\n",
       "      <td>0.158505</td>\n",
       "      <td>23.564619</td>\n",
       "      <td>7.559962</td>\n",
       "    </tr>\n",
       "    <tr>\n",
       "      <th>std</th>\n",
       "      <td>105.617565</td>\n",
       "      <td>0.377959</td>\n",
       "      <td>0.046557</td>\n",
       "      <td>2.085742</td>\n",
       "      <td>1.204797</td>\n",
       "    </tr>\n",
       "    <tr>\n",
       "      <th>min</th>\n",
       "      <td>12.000000</td>\n",
       "      <td>2.153543</td>\n",
       "      <td>0.055556</td>\n",
       "      <td>20.129032</td>\n",
       "      <td>6.000000</td>\n",
       "    </tr>\n",
       "    <tr>\n",
       "      <th>25%</th>\n",
       "      <td>168.000000</td>\n",
       "      <td>3.057377</td>\n",
       "      <td>0.129870</td>\n",
       "      <td>22.244094</td>\n",
       "      <td>6.630000</td>\n",
       "    </tr>\n",
       "    <tr>\n",
       "      <th>50%</th>\n",
       "      <td>231.000000</td>\n",
       "      <td>3.262458</td>\n",
       "      <td>0.157895</td>\n",
       "      <td>22.779698</td>\n",
       "      <td>7.190000</td>\n",
       "    </tr>\n",
       "    <tr>\n",
       "      <th>75%</th>\n",
       "      <td>291.000000</td>\n",
       "      <td>3.400545</td>\n",
       "      <td>0.189655</td>\n",
       "      <td>24.730769</td>\n",
       "      <td>8.210000</td>\n",
       "    </tr>\n",
       "    <tr>\n",
       "      <th>max</th>\n",
       "      <td>463.000000</td>\n",
       "      <td>3.797980</td>\n",
       "      <td>0.288136</td>\n",
       "      <td>29.333333</td>\n",
       "      <td>11.370000</td>\n",
       "    </tr>\n",
       "  </tbody>\n",
       "</table>\n",
       "</div>"
      ],
      "text/plain": [
       "             Games  Yellows_per_game  Reds_per_game  Fouls_per_game  \\\n",
       "count  6902.000000       6902.000000    6902.000000     6902.000000   \n",
       "mean    224.436975          3.166184       0.158505       23.564619   \n",
       "std     105.617565          0.377959       0.046557        2.085742   \n",
       "min      12.000000          2.153543       0.055556       20.129032   \n",
       "25%     168.000000          3.057377       0.129870       22.244094   \n",
       "50%     231.000000          3.262458       0.157895       22.779698   \n",
       "75%     291.000000          3.400545       0.189655       24.730769   \n",
       "max     463.000000          3.797980       0.288136       29.333333   \n",
       "\n",
       "       Fouls_per_card  \n",
       "count     6902.000000  \n",
       "mean         7.559962  \n",
       "std          1.204797  \n",
       "min          6.000000  \n",
       "25%          6.630000  \n",
       "50%          7.190000  \n",
       "75%          8.210000  \n",
       "max         11.370000  "
      ]
     },
     "execution_count": 65,
     "metadata": {},
     "output_type": "execute_result"
    }
   ],
   "source": [
    "common_refs.describe()"
   ]
  },
  {
   "cell_type": "markdown",
   "metadata": {},
   "source": [
    "From this we can see that Halsey and Durkin are a whole yellow card below the mean which confirms they are exceptionally lenient on this measure.  They are also way above the top 75% range for fouls per card.  They are close to average in terms of fouls per game and in the bottom 25% for red cards given. I'd argue quite strongly that they are the two most lenient referees.  There isn't nearly as much range in the fouls per game stat so I don't see any other candidates who stand out."
   ]
  },
  {
   "cell_type": "code",
   "execution_count": 66,
   "metadata": {
    "collapsed": true
   },
   "outputs": [
    {
     "data": {
      "text/plain": [
       "809     27\n",
       "607     26\n",
       "708     24\n",
       "506     21\n",
       "1011    21\n",
       "102     21\n",
       "1112    21\n",
       "405     20\n",
       "203     19\n",
       "304     19\n",
       "1213    18\n",
       "1       16\n",
       "910      1\n",
       "Name: season, dtype: int64"
      ]
     },
     "execution_count": 66,
     "metadata": {},
     "output_type": "execute_result"
    }
   ],
   "source": [
    "# Check when they operated\n",
    "\n",
    "data[data['ref_name']=='Halsey']['season'].value_counts()"
   ]
  },
  {
   "cell_type": "code",
   "execution_count": 67,
   "metadata": {
    "collapsed": true
   },
   "outputs": [
    {
     "data": {
      "text/plain": [
       "1      22\n",
       "102    21\n",
       "304    21\n",
       "203    19\n",
       "Name: season, dtype: int64"
      ]
     },
     "execution_count": 67,
     "metadata": {},
     "output_type": "execute_result"
    }
   ],
   "source": [
    "data[data['ref_name']=='Durkin']['season'].value_counts()"
   ]
  },
  {
   "cell_type": "markdown",
   "metadata": {},
   "source": [
    "Executive Summary\n",
    "\n",
    "We can see that the foul rate for the highest fouling team has seen a decrease over the last 19 seasons from Sunderlands peak of 16.26 to the last 10 seasons highest all being under 14.\n",
    "\n",
    "The number of yellow cards given per season has increased slightly this season if our assumption of card rate being the same in the latter part of the seaon holds.  One factor in this increase could be the new rule around what yellow cards count towards a suspension. In previous seasons cards from all competitions counted towards a suspension whereas this year only cards received in the premier league count towards a premier league suspension.  This might lessen the effect of my earlier argument that we would see fewer cards in the latter stages of the season as players try to avoid suspension.  \n",
    "\n",
    "We have also seen the retirement of by far the two most lenient referees who combined were in charge of 387 games, 327 of which were before 2010 and the last of which was in the 12/13 season.  \n",
    "\n",
    "All of these combined suggest that football has become stricter with less fouls and more of those fouls earning a yellow card.\n",
    "\n"
   ]
  },
  {
   "cell_type": "code",
   "execution_count": null,
   "metadata": {},
   "outputs": [],
   "source": []
  }
 ],
 "metadata": {
  "kernelspec": {
   "display_name": "Python 3",
   "language": "python",
   "name": "python3"
  },
  "language_info": {
   "codemirror_mode": {
    "name": "ipython",
    "version": 3
   },
   "file_extension": ".py",
   "mimetype": "text/x-python",
   "name": "python",
   "nbconvert_exporter": "python",
   "pygments_lexer": "ipython3",
   "version": "3.6.8"
  }
 },
 "nbformat": 4,
 "nbformat_minor": 2
}
